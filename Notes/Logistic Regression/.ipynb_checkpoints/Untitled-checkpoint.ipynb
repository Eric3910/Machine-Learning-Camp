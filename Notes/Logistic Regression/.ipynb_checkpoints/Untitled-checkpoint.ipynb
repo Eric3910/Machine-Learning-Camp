{
 "cells": [
  {
   "cell_type": "markdown",
   "metadata": {},
   "source": [
    "## Logistic Regression\n",
    "### 利用Logistic 回归进行分类的主要思想：\n",
    "根据现有数据对分类边界线建立回归公式，以此进行分类。\n",
    "\n",
    "训练分类器的做法就是寻找最佳你和参数，使用的是最优化算法。\n",
    "\n",
    "### Logistic回归的一般过程：\n",
    "1. 收集数据：任意\n",
    "2. 准备数据：由于要进行距离计算，所以需要数据为数值型。结构化数据最佳\n",
    "3. 分析数据：任意\n",
    "4. 训练算法： 大部分时间用于训练，训练的目的是为了找到最佳的分类回归系数\n",
    "5. 测试算法：训练完成后，分类很快\n",
    "6. 使用算法： 首先，需要input data,将其转化为对应的结构化数值。\n",
    "接着，基于训练好的回归系数就可以对这些数值进行简单的回归计算，判定他们属于哪个类别。在这之后，就可以在输出类别上做其他工作。\n",
    "\n",
    "\n",
    "### 5.1 基于logistic回归和Sigmoid函数的分类\n",
    "### Logistic 回归：\n",
    "- 优点： 计算代价不高，易于理解实现\n",
    "- 缺点：容易欠拟合，分类精度可能不高\n",
    "- 适用数据类型： 数值型和标称型数据\n",
    "\n",
    "\n",
    "### Sigmoid 函数\n",
    "#### $ \\sigma(z)=\\frac{1}{1+e^{-z}}$\n",
    "#### 性质：x=0时y=0.5，随着x增大，y趋近于1，随着x减小，y趋近于0.如果横坐标足够大，则类似于阶跃函数\n",
    "\n",
    "- 为了实现Logistic回归分类器，可以在每个特征上乘以一个回归系数，然后将所有的结果值相加。总和带入Sigmoid函数。得到一个范围在0~1之间的数值。大于0.5的为分类1，小于0.5则为分类0。所以，Logistic回归也看做是概率估计。\n",
    "### 最佳回归系数\n",
    "\n",
    "$ z=w_0x_0 + w_1x_1+...+w_nx_n$\n",
    "\n",
    "$ z=w^Tx$ (向量写法）\n",
    "\n",
    "- 相当于两个数值向量对应元素相乘后$\\Sigma$.其中向量x是分类器的输入数据，向量w是要找的最佳参数\n",
    "\n",
    "#### 5.2.1 梯度上升法;\n",
    "##### 思想： 要找到某函数的最大值，最好的方法是沿着该函数的梯度方向探寻。如果梯度为$\\Delta$,则函数f(x,y)的梯度为：\n",
    "- 沿着x的方向移动f(x,y)对x的偏导数，沿着y的方向移动f(x,y)对y的偏导，到下一点后继续，直到满足停止条件。\n",
    "\n",
    "梯度算子总是指向函数值增长最快的方向。移动量的大小叫做步长$\\alpha$.梯度上升算法的迭代公式为：\n",
    "$$w := w + \\alpha\\Delta_wf(w)$$\n",
    "\n",
    "对于梯度下降算法而言，公式中的加法变成减法，用于求函数的最小值。\n",
    "$$w := w - \\alpha\\Delta_wf(w)$$"
   ]
  },
  {
   "cell_type": "code",
   "execution_count": null,
   "metadata": {},
   "outputs": [],
   "source": []
  },
  {
   "cell_type": "code",
   "execution_count": null,
   "metadata": {},
   "outputs": [],
   "source": []
  }
 ],
 "metadata": {
  "kernelspec": {
   "display_name": "Python 3",
   "language": "python",
   "name": "python3"
  },
  "language_info": {
   "codemirror_mode": {
    "name": "ipython",
    "version": 3
   },
   "file_extension": ".py",
   "mimetype": "text/x-python",
   "name": "python",
   "nbconvert_exporter": "python",
   "pygments_lexer": "ipython3",
   "version": "3.7.0"
  }
 },
 "nbformat": 4,
 "nbformat_minor": 2
}
