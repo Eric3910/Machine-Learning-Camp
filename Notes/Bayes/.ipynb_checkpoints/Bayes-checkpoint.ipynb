{
 "cells": [
  {
   "cell_type": "markdown",
   "metadata": {},
   "source": [
    "### 基于概率论的分类方法：朴素贝叶斯\n",
    "\n",
    "#### 4.1 基于贝叶斯决策理论的分类方法\n",
    "##### 朴素贝叶斯\n",
    "- 优点：在数据较少的情况下仍然有效，可以处理多类别问题\n",
    "- 缺点：对于输入数据的准备方式较为敏感\n",
    "- 适用数据类型：标称型数据\n",
    "\n",
    "\n",
    "##### 朴素贝叶斯算法朴素的原因是：\n",
    "1. 假设各个特征之间相互独立\n",
    "2. 假设各个特征重要程度一致。"
   ]
  }
 ],
 "metadata": {
  "kernelspec": {
   "display_name": "Python 3",
   "language": "python",
   "name": "python3"
  },
  "language_info": {
   "codemirror_mode": {
    "name": "ipython",
    "version": 3
   },
   "file_extension": ".py",
   "mimetype": "text/x-python",
   "name": "python",
   "nbconvert_exporter": "python",
   "pygments_lexer": "ipython3",
   "version": "3.7.0"
  }
 },
 "nbformat": 4,
 "nbformat_minor": 2
}
