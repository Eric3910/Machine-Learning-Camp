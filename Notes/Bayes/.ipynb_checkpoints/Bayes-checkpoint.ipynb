{
 "cells": [
  {
   "cell_type": "markdown",
   "metadata": {},
   "source": [
    "### 基于概率论的分类方法：朴素贝叶斯\n",
    "\n",
    "KNN和Decision Tree是要求分类器做出艰难决策，即给出某一个数据实例属于哪一类这类问题的确定答案。但分类器有时会有错误，此时可以要求分类器给出一个最优的类别猜测结果，同时给出这个猜测的概率估计值。\n",
    "\n",
    "#### 4.1 基于贝叶斯决策理论的分类方法\n",
    "##### 朴素贝叶斯\n",
    "- 优点：在数据较少的情况下仍然有效，可以处理多类别问题\n",
    "- 缺点：对于输入数据的准备方式较为敏感\n",
    "- 适用数据类型：标称型数据\n",
    "##### 贝叶斯理论\n",
    "假设有一数据集，两类数据构成，p1(x,y）表示数据点（x,y)属于第一类，p2(x,y)表示属于第二类。\n",
    "对于一个新数据点(x,y)，则可以用如下规则判断其类别：\n",
    "\n",
    "- if p1(x,y)>p2(x,y), then (x,y) -> Type1\n",
    "- if p1(x,y)<p2(x,y), then (x,y) -> Type2\n",
    "\n",
    "选择最高概率的决策，就是贝叶斯决策理论的思想 \n",
    "\n",
    "#### 条件概率\n",
    "$p(c|x)=\\frac{p(x|c)p(c)}{p(x)}$\n",
    "\n",
    "\n",
    "\n",
    "##### 朴素贝叶斯算法朴素的原因是：\n",
    "1. 假设各个特征之间相互独立\n",
    "2. 假设各个特征重要程度一致。"
   ]
  },
  {
   "cell_type": "code",
   "execution_count": null,
   "metadata": {},
   "outputs": [],
   "source": []
  }
 ],
 "metadata": {
  "kernelspec": {
   "display_name": "Python 3",
   "language": "python",
   "name": "python3"
  },
  "language_info": {
   "codemirror_mode": {
    "name": "ipython",
    "version": 3
   },
   "file_extension": ".py",
   "mimetype": "text/x-python",
   "name": "python",
   "nbconvert_exporter": "python",
   "pygments_lexer": "ipython3",
   "version": "3.7.0"
  }
 },
 "nbformat": 4,
 "nbformat_minor": 2
}
