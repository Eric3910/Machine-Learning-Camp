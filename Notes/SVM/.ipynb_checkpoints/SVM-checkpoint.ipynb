{
 "cells": [
  {
   "cell_type": "markdown",
   "metadata": {},
   "source": [
    "## SVM 支持向量机（Support Vecotr Machines)\n",
    "### SMO算法(Sequential Minimal Optimization, 序列最小优化）\n",
    "- 优点: 泛化错误率第，计算开销不大，结果已解释。\n",
    "- 缺点：对参数调节和核函数的选择敏感，原始分类器不加修改仅仅适用于处理二类问题\n",
    "- 适用数据类型: 数值型和标称型数据\n",
    "### 6.1 基于最大间隔分割数据\n",
    "\n",
    "- 将数据集分割开的直线称为分割超平面，数据集的维度N-1维，称为超平面，也就是分类的决策边界。\n",
    "- 如果数据点离决策平面越远，则最后的预测结果就越可信。\n",
    "- 找到离分割超平面最近的点，确保它们离分割面的距离尽可能元。该距离叫做间隔。\n",
    "- 支持向量就是离分隔超平面最近的哪些点。接下来就是试着最大化支持向量到分割面的距离。\n",
    "\n",
    "### 6.2 寻找最大间隔\n",
    "- 分隔超平面的形式可以写成 $\\textbf{w^Tx}+b$\n",
    "- 要计算点A到分割超平面的距离，就必须给出点到分割面的法线或垂线的长度，为$|\\textbf{w^TA}+b|/||\\textbf{w}||$\n",
    "- w和b描述了所给数据的分割线或超平面。\n",
    "#### 6.2.1 分类器求解的优化问题\n",
    "- 分类器输入数据后会输出一个类别标签，相当于一个类似于Sigmoid的函数在起作用。使用类似单位阶跃函数的函数作用于$\\textbf{w^Tx}+b$\n",
    "- u<0时f(u)输出-1，反之输出+1。只差符号，方便数学处理。\n",
    "- 间隔=label*$\\textbf{w^Tx}+b$,这样无论数据点处于正方向还是负方向，该值始终为一个较大的正数\n",
    "- 找出分类器定义的w和b。\n",
    "- 目的：先找到最小间隔的点，再让该点的间隔最大化，找到让间隔最大化的w和b\n",
    "- 该问题其实是在给定了一些约束条件后求最优值，对于这一类问题，通常使用拉格朗日乘子法\n",
    "\n",
    "#### 6.2.2 SVM应用的一般框架\n",
    "##### 一般流程：\n",
    "1. 收集数据：任意\n",
    "2. 准备数据：数值型数据\n",
    "3. 分析数据：有助于可视化分割超平面\n",
    "4. 训练算法： SVM的大部分时间用于训练，主要实现两个参数的调优\n",
    "5. 测试算法：很容易实现\n",
    "6. 使用算法：几乎适用于所有分类问题。SVM本身是二类分类器，对多类问题应用SVM需要修改代码\n",
    "\n",
    "### 6.3 SMO高效优化算法\n",
    "\n",
    "#### 6.3.1 Platt 的SMO算法\n",
    "* 大优化问题分解为多个小优化问题。\n",
    "* 目标是求出一系列的alpha和b\n",
    "* 工作原理： 每次循环选择两个alpha进行优化处理。一旦找到一对alpha，那么就增大其中一个同时减小另一个。\n",
    "\n",
    "#### 6.3.2 应用简化版SMO算法那处理小规模数据集\n",
    "\n"
   ]
  },
  {
   "cell_type": "code",
   "execution_count": null,
   "metadata": {},
   "outputs": [],
   "source": []
  },
  {
   "cell_type": "code",
   "execution_count": null,
   "metadata": {},
   "outputs": [],
   "source": []
  },
  {
   "cell_type": "code",
   "execution_count": null,
   "metadata": {},
   "outputs": [],
   "source": []
  },
  {
   "cell_type": "code",
   "execution_count": null,
   "metadata": {},
   "outputs": [],
   "source": []
  }
 ],
 "metadata": {
  "kernelspec": {
   "display_name": "Python 3",
   "language": "python",
   "name": "python3"
  },
  "language_info": {
   "codemirror_mode": {
    "name": "ipython",
    "version": 3
   },
   "file_extension": ".py",
   "mimetype": "text/x-python",
   "name": "python",
   "nbconvert_exporter": "python",
   "pygments_lexer": "ipython3",
   "version": "3.7.0"
  }
 },
 "nbformat": 4,
 "nbformat_minor": 2
}
