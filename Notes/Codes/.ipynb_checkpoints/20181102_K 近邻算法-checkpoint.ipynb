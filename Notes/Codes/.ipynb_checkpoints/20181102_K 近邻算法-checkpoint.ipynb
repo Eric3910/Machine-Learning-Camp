{
 "cells": [
  {
   "cell_type": "markdown",
   "metadata": {},
   "source": [
    "##    K-近邻算法\n",
    "###    特点\n",
    "-    优点：精度高，对异常值不敏感，无数据输入假定\n",
    "-    缺点：计算复杂度高、空间复杂度高\n",
    "-    使用数据范围：数值型和标称型\n",
    "\n",
    "###    工作原理\n",
    "-    存在样本集，并且样本均已标签化\n",
    "-    输入无标签的新数据后，将新数据的每个特征与样本集中数据特征进行比较\n",
    "-    使用算法提取样本集中特征k个最相似数据（最近邻）的分类标签。（Normally k <= 20)\n",
    "-    选择k个最相似数据中出现次数最多的分类，作为新数据的分类。\n",
    "\n",
    "###    k-近邻算法的一般流程\n",
    "1.   收集数据\n",
    "2.   准备数据：距离计算所需要的数值。最好是结构化的数据格式。\n",
    "3.   分析数据\n",
    "4.   （训练算法）：对于k-近邻不适用\n",
    "5.   测试算法：计算错误率\n",
    "6.   使用算法：首先需要输入样本数据和结构化的输出结果，然后运行k-近邻算法判定输入数据分别属于哪一个分类，最后应用对计算出的分类执行后续的处理。"
   ]
  },
  {
   "cell_type": "code",
   "execution_count": 4,
   "metadata": {},
   "outputs": [
    {
     "name": "stdout",
     "output_type": "stream",
     "text": [
      "[[1.  1.1]\n",
      " [1.  1. ]\n",
      " [0.  0. ]\n",
      " [0.  0.1]]\n",
      "['A', 'A', 'B', 'B']\n"
     ]
    }
   ],
   "source": [
    "import kNN\n",
    "import numpy\n",
    "import operator\n",
    "group,labels = kNN.createDataSet()\n",
    "\n",
    "print(group)\n",
    "print(labels)"
   ]
  },
  {
   "cell_type": "markdown",
   "metadata": {},
   "source": [
    "---\n",
    "### 实施kNN分类算法\n",
    "#### 伪代码：\n",
    "对位置类别属性的数据集中的每个点依次执行以下操作：\n",
    "1. 计算已知类别数据集中的点到当前点的距离\n",
    "2. 按照距离递增次序排序\n",
    "3. 选取与当前点距离最小的k个点\n",
    "4. 确定前k个点所在列表的出现频率\n",
    "5. 返回前k个点出现频率最高的类别作为当前点的预测分类。\n",
    "\n",
    "#### classify0()函数：\n",
    "\n",
    "-  标签向量的元素数目和矩阵dataSet的行数相同。程序使用欧式距离公式，计算两个向量点xA和xB的距离\n",
    "$$\\sqrt{(xA_0-xB_0)^2+(xA_1-xB_1)^2}$$\n",
    "-  \n",
    "$$\\documentclass{article}$$\n",
    "$$\\begin{document}$$\n",
    "$$\"Hello world!\"\"from \\LaTex.$$\n",
    "$$\\end{document}$$"
   ]
  },
  {
   "cell_type": "code",
   "execution_count": 16,
   "metadata": {},
   "outputs": [
    {
     "name": "stdout",
     "output_type": "stream",
     "text": [
      "A\n"
     ]
    },
    {
     "name": "stderr",
     "output_type": "stream",
     "text": [
      "/Users/mac/anaconda3/lib/python3.7/site-packages/ipykernel_launcher.py:44: RuntimeWarning: invalid value encountered in sqrt\n"
     ]
    }
   ],
   "source": [
    "import kNN\n",
    "import operator\n",
    "from numpy import *\n",
    "\n",
    "def classify0(inX,dataSet,labels,k):\n",
    "    '''\n",
    "    func : k nearest neighbors\n",
    "    Parameters: \n",
    "    inX: 用于分类的输入向量\n",
    "    dataSet：输入的训练样本集\n",
    "    labels:标签向量\n",
    "    k：选择最近邻居的数目\n",
    "    '''\n",
    "    dataSetSize = dataSet.shape[0]\n",
    "    diffMat = tile(inX, (dataSetSize,1)) - dataSet #\n",
    "    sqDiffMat = diffMat * 2\n",
    "    sqDistances =sqDiffMat.sum(axis = 1)\n",
    "    distances = sqDistances**0.5\n",
    "    sortedDistIndicies = distances.argsort()\n",
    "    classCount = {}\n",
    "    for i in range(k):\n",
    "    \tvoteIlabel = labels[sortedDistIndicies[i]]\n",
    "    \tclassCount[voteIlabel] = classCount.get(voteIlabel,0)+1\n",
    "    sortedClassCount = sorted(classCount.items(), key=operator.itemgetter(1),reverse=True)\n",
    "    return sortedClassCount[0][0]\n",
    "\n",
    "def createDataSet():\n",
    "\tgroup = array([[1.0,1.1],[1.0,1.0],[0,0],[0,0.1]])\n",
    "\tlabels = ['A','A','B','B']\n",
    "\treturn group, labels\n",
    "def classify0(inX,dataSet,labels,k):\n",
    "    '''\n",
    "    func : k nearest neighbors\n",
    "    Parameters: \n",
    "    inX: 用于分类的输入向量\n",
    "    dataSet：输入的训练样本集\n",
    "    labels:标签向量\n",
    "    k：选择最近邻居的数目\n",
    "    '''\n",
    "    dataSetSize = dataSet.shape[0]\n",
    "    diffMat = tile(inX, (dataSetSize,1)) - dataSet #\n",
    "    sqDiffMat = diffMat * 2\n",
    "    sqDistances =sqDiffMat.sum(axis = 1)\n",
    "    distances = sqDistances**0.5\n",
    "    sortedDistIndicies = distances.argsort()\n",
    "    classCount = {}\n",
    "    for i in range(k):\n",
    "    \tvoteIlabel = labels[sortedDistIndicies[i]]\n",
    "    \tclassCount[voteIlabel] = classCount.get(voteIlabel,0)+1\n",
    "    sortedClassCount = sorted(classCount.items(), key=operator.itemgetter(1),reverse=True)\n",
    "    return sortedClassCount[0][0]\n",
    "\n",
    "group, labels = kNN.createDataSet()\n",
    "print(classify0([0,0],group,labels,3))\n",
    "\n",
    "    "
   ]
  },
  {
   "cell_type": "code",
   "execution_count": null,
   "metadata": {},
   "outputs": [],
   "source": []
  }
 ],
 "metadata": {
  "kernelspec": {
   "display_name": "Python 3",
   "language": "python",
   "name": "python3"
  },
  "language_info": {
   "codemirror_mode": {
    "name": "ipython",
    "version": 3
   },
   "file_extension": ".py",
   "mimetype": "text/x-python",
   "name": "python",
   "nbconvert_exporter": "python",
   "pygments_lexer": "ipython3",
   "version": "3.7.0"
  }
 },
 "nbformat": 4,
 "nbformat_minor": 2
}
